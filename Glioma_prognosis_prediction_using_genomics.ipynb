{
  "nbformat": 4,
  "nbformat_minor": 0,
  "metadata": {
    "colab": {
      "provenance": [],
      "authorship_tag": "ABX9TyO+F4Dp4qb84OIO08YpUauN",
      "include_colab_link": true
    },
    "kernelspec": {
      "name": "python3",
      "display_name": "Python 3"
    },
    "language_info": {
      "name": "python"
    }
  },
  "cells": [
    {
      "cell_type": "markdown",
      "metadata": {
        "id": "view-in-github",
        "colab_type": "text"
      },
      "source": [
        "<a href=\"https://colab.research.google.com/github/reza74rsa/Cellectors/blob/main/Glioma_prognosis_prediction_using_genomics.ipynb\" target=\"_parent\"><img src=\"https://colab.research.google.com/assets/colab-badge.svg\" alt=\"Open In Colab\"/></a>"
      ]
    },
    {
      "cell_type": "markdown",
      "source": [
        "#Preprocessing"
      ],
      "metadata": {
        "id": "sn6ac4F4UoI_"
      }
    },
    {
      "cell_type": "markdown",
      "source": [
        "##Libraries importing"
      ],
      "metadata": {
        "id": "Cp_ki_xrkJS8"
      }
    },
    {
      "cell_type": "code",
      "execution_count": null,
      "metadata": {
        "id": "D_NlT8Dn-UmO"
      },
      "outputs": [],
      "source": [
        "import requests\n",
        "import gzip\n",
        "import pandas as pd\n",
        "import numpy as np\n",
        "import matplotlib.pyplot as plt\n",
        "%matplotlib inline"
      ]
    },
    {
      "cell_type": "markdown",
      "source": [
        "##Data loading"
      ],
      "metadata": {
        "id": "vbfFmkExkHzH"
      }
    },
    {
      "cell_type": "markdown",
      "source": [
        "Featuews : GDC TCGA Lower Grade Glioma (LGG) - DNA methylation"
      ],
      "metadata": {
        "id": "mtBEO4ekUYpE"
      }
    },
    {
      "cell_type": "code",
      "source": [
        "url = \"https://gdc-hub.s3.us-east-1.amazonaws.com/download/TCGA-LGG.methylation450.tsv.gz\"\n",
        "r = requests.get(url)\n",
        "open(\"data.tsv.gz\", \"wb\").write(r.content)"
      ],
      "metadata": {
        "colab": {
          "base_uri": "https://localhost:8080/"
        },
        "id": "-4_-BZLqAwXT",
        "outputId": "b99b5051-09b4-4c96-813a-eeec278a981a"
      },
      "execution_count": null,
      "outputs": [
        {
          "output_type": "execute_result",
          "data": {
            "text/plain": [
              "1757668269"
            ]
          },
          "metadata": {},
          "execution_count": 2
        }
      ]
    },
    {
      "cell_type": "code",
      "source": [
        "with gzip.open('data.tsv.gz', 'rb') as f:\n",
        "    df = pd.read_csv(f, sep='\\t', header=0)"
      ],
      "metadata": {
        "id": "l69_bI922vB7"
      },
      "execution_count": null,
      "outputs": []
    },
    {
      "cell_type": "code",
      "source": [
        "# with gzip.open('data.tsv.gz', 'rb') as f:\n",
        "#     data = pd.read_csv(f, sep='\\t', header=0,  iterator=True)\n",
        "#     df = data.get_chunk(1000).T\n",
        "#     i = 0\n",
        "#     while True:\n",
        "#       try:\n",
        "#         temp_df = data.get_chunk(1000).T\n",
        "#         df = pd.concat([temp_df, df], axis=1)\n",
        "#         i += 1\n",
        "#       except:\n",
        "#         print(i)\n",
        "#         break\n",
        "#     # df = pd.concat(data)"
      ],
      "metadata": {
        "id": "3VcAhb39Ur03"
      },
      "execution_count": null,
      "outputs": []
    },
    {
      "cell_type": "code",
      "source": [
        "# op = open(\"data.tsv\",\"w\") \n",
        "\n",
        "# with gzip.open('data.tsv.gz',\"rb\") as f:\n",
        "#     op.write(f.read().decode(\"utf-8\"))\n",
        "\n",
        "# op.close()"
      ],
      "metadata": {
        "id": "3CyT9fWhU3mC"
      },
      "execution_count": null,
      "outputs": []
    },
    {
      "cell_type": "code",
      "source": [
        "# data = pd.read_csv(\"data.tsv\", sep='\\t', header=0, chunksize=10000)\n",
        "  \n",
        "# for i,j in enumerate(data):\n",
        "#   # if i == 0:\n",
        "#   #   df = j.T\n",
        "#   # else:\n",
        "#   #   df = pd.concat([j.T, df], axis=1)\n",
        "#   break"
      ],
      "metadata": {
        "id": "My-MbaSuYS3z"
      },
      "execution_count": null,
      "outputs": []
    },
    {
      "cell_type": "code",
      "source": [
        "# data = pd.read_csv(\"data.tsv\", sep='\\t', header=0,  iterator=True)\n",
        "# df = data.get_chunk(10000).T\n",
        "# i = 0\n",
        "# while True:\n",
        "#   try:\n",
        "#     temp_df = data.get_chunk(10000).T\n",
        "#     df = pd.concat([temp_df, df], axis=1)\n",
        "#     i += 1\n",
        "#   except:\n",
        "#       print(i)\n",
        "#       break"
      ],
      "metadata": {
        "id": "0W_Gx4IvXhFY"
      },
      "execution_count": null,
      "outputs": []
    },
    {
      "cell_type": "markdown",
      "source": [
        "Labels : GDC TCGA Lower Grade Glioma (LGG) - phenotype - survival data"
      ],
      "metadata": {
        "id": "tjS_l4P4UaRf"
      }
    },
    {
      "cell_type": "code",
      "source": [
        "url = \"https://gdc-hub.s3.us-east-1.amazonaws.com/download/TCGA-LGG.survival.tsv\"\n",
        "r = requests.get(url)\n",
        "open(\"dsurvival.tsv\", \"wb\").write(r.content)"
      ],
      "metadata": {
        "id": "yXvnYD2iTsx6",
        "colab": {
          "base_uri": "https://localhost:8080/"
        },
        "outputId": "ac1fe062-f954-4bcb-ecd1-1b39eb65aeff"
      },
      "execution_count": null,
      "outputs": [
        {
          "output_type": "execute_result",
          "data": {
            "text/plain": [
              "19327"
            ]
          },
          "metadata": {},
          "execution_count": 8
        }
      ]
    },
    {
      "cell_type": "code",
      "source": [
        "labels = pd.read_csv(\"dsurvival.tsv\", sep='\\t', header=0)"
      ],
      "metadata": {
        "id": "v2BjZY6aT18s"
      },
      "execution_count": null,
      "outputs": []
    },
    {
      "cell_type": "code",
      "source": [
        "labels"
      ],
      "metadata": {
        "id": "HFnWWq6vU7F4",
        "colab": {
          "base_uri": "https://localhost:8080/",
          "height": 424
        },
        "outputId": "d0535610-59ff-44c8-b075-efcbf3eb2946"
      },
      "execution_count": null,
      "outputs": [
        {
          "output_type": "execute_result",
          "data": {
            "text/plain": [
              "               sample  OS      _PATIENT  OS.time\n",
              "0    TCGA-HT-7472-01A   0  TCGA-HT-7472        1\n",
              "1    TCGA-HT-A5R9-01A   0  TCGA-HT-A5R9        2\n",
              "2    TCGA-HT-8015-01B   0  TCGA-HT-8015        3\n",
              "3    TCGA-HT-7467-01A   0  TCGA-HT-7467        3\n",
              "4    TCGA-HT-A74O-01A   0  TCGA-HT-A74O        3\n",
              "..                ...  ..           ...      ...\n",
              "528  TCGA-S9-A7R1-01A   1  TCGA-S9-A7R1     5166\n",
              "529  TCGA-HT-7483-01A   0  TCGA-HT-7483     5255\n",
              "530  TCGA-DU-5870-02A   0  TCGA-DU-5870     5546\n",
              "531  TCGA-DU-5870-01A   0  TCGA-DU-5870     5546\n",
              "532  TCGA-DU-6392-01A   0  TCGA-DU-6392     6423\n",
              "\n",
              "[533 rows x 4 columns]"
            ],
            "text/html": [
              "\n",
              "  <div id=\"df-c3a47017-a342-475b-90ff-600a54ca60b2\">\n",
              "    <div class=\"colab-df-container\">\n",
              "      <div>\n",
              "<style scoped>\n",
              "    .dataframe tbody tr th:only-of-type {\n",
              "        vertical-align: middle;\n",
              "    }\n",
              "\n",
              "    .dataframe tbody tr th {\n",
              "        vertical-align: top;\n",
              "    }\n",
              "\n",
              "    .dataframe thead th {\n",
              "        text-align: right;\n",
              "    }\n",
              "</style>\n",
              "<table border=\"1\" class=\"dataframe\">\n",
              "  <thead>\n",
              "    <tr style=\"text-align: right;\">\n",
              "      <th></th>\n",
              "      <th>sample</th>\n",
              "      <th>OS</th>\n",
              "      <th>_PATIENT</th>\n",
              "      <th>OS.time</th>\n",
              "    </tr>\n",
              "  </thead>\n",
              "  <tbody>\n",
              "    <tr>\n",
              "      <th>0</th>\n",
              "      <td>TCGA-HT-7472-01A</td>\n",
              "      <td>0</td>\n",
              "      <td>TCGA-HT-7472</td>\n",
              "      <td>1</td>\n",
              "    </tr>\n",
              "    <tr>\n",
              "      <th>1</th>\n",
              "      <td>TCGA-HT-A5R9-01A</td>\n",
              "      <td>0</td>\n",
              "      <td>TCGA-HT-A5R9</td>\n",
              "      <td>2</td>\n",
              "    </tr>\n",
              "    <tr>\n",
              "      <th>2</th>\n",
              "      <td>TCGA-HT-8015-01B</td>\n",
              "      <td>0</td>\n",
              "      <td>TCGA-HT-8015</td>\n",
              "      <td>3</td>\n",
              "    </tr>\n",
              "    <tr>\n",
              "      <th>3</th>\n",
              "      <td>TCGA-HT-7467-01A</td>\n",
              "      <td>0</td>\n",
              "      <td>TCGA-HT-7467</td>\n",
              "      <td>3</td>\n",
              "    </tr>\n",
              "    <tr>\n",
              "      <th>4</th>\n",
              "      <td>TCGA-HT-A74O-01A</td>\n",
              "      <td>0</td>\n",
              "      <td>TCGA-HT-A74O</td>\n",
              "      <td>3</td>\n",
              "    </tr>\n",
              "    <tr>\n",
              "      <th>...</th>\n",
              "      <td>...</td>\n",
              "      <td>...</td>\n",
              "      <td>...</td>\n",
              "      <td>...</td>\n",
              "    </tr>\n",
              "    <tr>\n",
              "      <th>528</th>\n",
              "      <td>TCGA-S9-A7R1-01A</td>\n",
              "      <td>1</td>\n",
              "      <td>TCGA-S9-A7R1</td>\n",
              "      <td>5166</td>\n",
              "    </tr>\n",
              "    <tr>\n",
              "      <th>529</th>\n",
              "      <td>TCGA-HT-7483-01A</td>\n",
              "      <td>0</td>\n",
              "      <td>TCGA-HT-7483</td>\n",
              "      <td>5255</td>\n",
              "    </tr>\n",
              "    <tr>\n",
              "      <th>530</th>\n",
              "      <td>TCGA-DU-5870-02A</td>\n",
              "      <td>0</td>\n",
              "      <td>TCGA-DU-5870</td>\n",
              "      <td>5546</td>\n",
              "    </tr>\n",
              "    <tr>\n",
              "      <th>531</th>\n",
              "      <td>TCGA-DU-5870-01A</td>\n",
              "      <td>0</td>\n",
              "      <td>TCGA-DU-5870</td>\n",
              "      <td>5546</td>\n",
              "    </tr>\n",
              "    <tr>\n",
              "      <th>532</th>\n",
              "      <td>TCGA-DU-6392-01A</td>\n",
              "      <td>0</td>\n",
              "      <td>TCGA-DU-6392</td>\n",
              "      <td>6423</td>\n",
              "    </tr>\n",
              "  </tbody>\n",
              "</table>\n",
              "<p>533 rows × 4 columns</p>\n",
              "</div>\n",
              "      <button class=\"colab-df-convert\" onclick=\"convertToInteractive('df-c3a47017-a342-475b-90ff-600a54ca60b2')\"\n",
              "              title=\"Convert this dataframe to an interactive table.\"\n",
              "              style=\"display:none;\">\n",
              "        \n",
              "  <svg xmlns=\"http://www.w3.org/2000/svg\" height=\"24px\"viewBox=\"0 0 24 24\"\n",
              "       width=\"24px\">\n",
              "    <path d=\"M0 0h24v24H0V0z\" fill=\"none\"/>\n",
              "    <path d=\"M18.56 5.44l.94 2.06.94-2.06 2.06-.94-2.06-.94-.94-2.06-.94 2.06-2.06.94zm-11 1L8.5 8.5l.94-2.06 2.06-.94-2.06-.94L8.5 2.5l-.94 2.06-2.06.94zm10 10l.94 2.06.94-2.06 2.06-.94-2.06-.94-.94-2.06-.94 2.06-2.06.94z\"/><path d=\"M17.41 7.96l-1.37-1.37c-.4-.4-.92-.59-1.43-.59-.52 0-1.04.2-1.43.59L10.3 9.45l-7.72 7.72c-.78.78-.78 2.05 0 2.83L4 21.41c.39.39.9.59 1.41.59.51 0 1.02-.2 1.41-.59l7.78-7.78 2.81-2.81c.8-.78.8-2.07 0-2.86zM5.41 20L4 18.59l7.72-7.72 1.47 1.35L5.41 20z\"/>\n",
              "  </svg>\n",
              "      </button>\n",
              "      \n",
              "  <style>\n",
              "    .colab-df-container {\n",
              "      display:flex;\n",
              "      flex-wrap:wrap;\n",
              "      gap: 12px;\n",
              "    }\n",
              "\n",
              "    .colab-df-convert {\n",
              "      background-color: #E8F0FE;\n",
              "      border: none;\n",
              "      border-radius: 50%;\n",
              "      cursor: pointer;\n",
              "      display: none;\n",
              "      fill: #1967D2;\n",
              "      height: 32px;\n",
              "      padding: 0 0 0 0;\n",
              "      width: 32px;\n",
              "    }\n",
              "\n",
              "    .colab-df-convert:hover {\n",
              "      background-color: #E2EBFA;\n",
              "      box-shadow: 0px 1px 2px rgba(60, 64, 67, 0.3), 0px 1px 3px 1px rgba(60, 64, 67, 0.15);\n",
              "      fill: #174EA6;\n",
              "    }\n",
              "\n",
              "    [theme=dark] .colab-df-convert {\n",
              "      background-color: #3B4455;\n",
              "      fill: #D2E3FC;\n",
              "    }\n",
              "\n",
              "    [theme=dark] .colab-df-convert:hover {\n",
              "      background-color: #434B5C;\n",
              "      box-shadow: 0px 1px 3px 1px rgba(0, 0, 0, 0.15);\n",
              "      filter: drop-shadow(0px 1px 2px rgba(0, 0, 0, 0.3));\n",
              "      fill: #FFFFFF;\n",
              "    }\n",
              "  </style>\n",
              "\n",
              "      <script>\n",
              "        const buttonEl =\n",
              "          document.querySelector('#df-c3a47017-a342-475b-90ff-600a54ca60b2 button.colab-df-convert');\n",
              "        buttonEl.style.display =\n",
              "          google.colab.kernel.accessAllowed ? 'block' : 'none';\n",
              "\n",
              "        async function convertToInteractive(key) {\n",
              "          const element = document.querySelector('#df-c3a47017-a342-475b-90ff-600a54ca60b2');\n",
              "          const dataTable =\n",
              "            await google.colab.kernel.invokeFunction('convertToInteractive',\n",
              "                                                     [key], {});\n",
              "          if (!dataTable) return;\n",
              "\n",
              "          const docLinkHtml = 'Like what you see? Visit the ' +\n",
              "            '<a target=\"_blank\" href=https://colab.research.google.com/notebooks/data_table.ipynb>data table notebook</a>'\n",
              "            + ' to learn more about interactive tables.';\n",
              "          element.innerHTML = '';\n",
              "          dataTable['output_type'] = 'display_data';\n",
              "          await google.colab.output.renderOutput(dataTable, element);\n",
              "          const docLink = document.createElement('div');\n",
              "          docLink.innerHTML = docLinkHtml;\n",
              "          element.appendChild(docLink);\n",
              "        }\n",
              "      </script>\n",
              "    </div>\n",
              "  </div>\n",
              "  "
            ]
          },
          "metadata": {},
          "execution_count": 10
        }
      ]
    },
    {
      "cell_type": "code",
      "source": [
        "#Select patient id and os.time among labels\n",
        "labels = labels.iloc[:, [0,3]]"
      ],
      "metadata": {
        "id": "dA72JzUiU_UK"
      },
      "execution_count": null,
      "outputs": []
    },
    {
      "cell_type": "code",
      "source": [
        "# Remove NAN identifiers\n",
        "df=df.dropna().reset_index(drop=True)"
      ],
      "metadata": {
        "id": "hIIrh_1EYCci"
      },
      "execution_count": null,
      "outputs": []
    },
    {
      "cell_type": "code",
      "source": [
        "df"
      ],
      "metadata": {
        "id": "OvqNC-Qec5LE",
        "colab": {
          "base_uri": "https://localhost:8080/",
          "height": 540
        },
        "outputId": "77bfe3f1-80f8-4f11-f20b-7d0416aa077e"
      },
      "execution_count": null,
      "outputs": [
        {
          "output_type": "execute_result",
          "data": {
            "text/plain": [
              "       Composite Element REF  TCGA-S9-A6WQ-01A  TCGA-DB-A64V-01A  \\\n",
              "0                 cg00000029          0.850163          0.794375   \n",
              "1                 cg00000165          0.182303          0.235612   \n",
              "2                 cg00000236          0.919964          0.918428   \n",
              "3                 cg00000289          0.741190          0.807882   \n",
              "4                 cg00000292          0.821800          0.764669   \n",
              "...                      ...               ...               ...   \n",
              "370049             rs9363764          0.935951          0.948834   \n",
              "370050              rs939290          0.538661          0.521277   \n",
              "370051              rs951295          0.967512          0.038067   \n",
              "370052              rs966367          0.479492          0.467710   \n",
              "370053             rs9839873          0.928399          0.698739   \n",
              "\n",
              "        TCGA-DU-8162-01A  TCGA-HT-7858-01A  TCGA-HT-8019-01A  \\\n",
              "0               0.627703          0.885086          0.545273   \n",
              "1               0.231927          0.136708          0.162496   \n",
              "2               0.896700          0.929134          0.904493   \n",
              "3               0.741549          0.721685          0.687615   \n",
              "4               0.613204          0.825479          0.665609   \n",
              "...                  ...               ...               ...   \n",
              "370049          0.945391          0.933186          0.940522   \n",
              "370050          0.033897          0.536383          0.508837   \n",
              "370051          0.066347          0.543269          0.527952   \n",
              "370052          0.923915          0.034852          0.947704   \n",
              "370053          0.931811          0.922432          0.929097   \n",
              "\n",
              "        TCGA-TM-A84C-01A  TCGA-S9-A6WO-01A  TCGA-TM-A84M-01A  \\\n",
              "0               0.868165          0.860534          0.882899   \n",
              "1               0.098264          0.101520          0.842956   \n",
              "2               0.855905          0.941359          0.884972   \n",
              "3               0.720627          0.788087          0.771278   \n",
              "4               0.330482          0.892027          0.862808   \n",
              "...                  ...               ...               ...   \n",
              "370049          0.592808          0.555798          0.940578   \n",
              "370050          0.966462          0.966590          0.519297   \n",
              "370051          0.532709          0.035318          0.038075   \n",
              "370052          0.477638          0.408081          0.507434   \n",
              "370053          0.930540          0.933013          0.676792   \n",
              "\n",
              "        TCGA-TQ-A7RQ-01A  ...  TCGA-HT-A5RC-01A  TCGA-HT-A616-01A  \\\n",
              "0               0.885700  ...          0.840901          0.840275   \n",
              "1               0.225748  ...          0.396442          0.486888   \n",
              "2               0.880838  ...          0.900246          0.921954   \n",
              "3               0.735567  ...          0.589977          0.761367   \n",
              "4               0.830660  ...          0.763409          0.829496   \n",
              "...                  ...  ...               ...               ...   \n",
              "370049          0.606940  ...          0.540285          0.943484   \n",
              "370050          0.031025  ...          0.027705          0.519545   \n",
              "370051          0.542278  ...          0.525321          0.951973   \n",
              "370052          0.933765  ...          0.460741          0.513231   \n",
              "370053          0.899661  ...          0.896218          0.937986   \n",
              "\n",
              "        TCGA-FG-5963-02A  TCGA-HT-7477-01B  TCGA-DB-5273-01A  \\\n",
              "0               0.120893          0.856048          0.786290   \n",
              "1               0.287997          0.572660          0.094496   \n",
              "2               0.891859          0.903516          0.936794   \n",
              "3               0.603824          0.650224          0.816928   \n",
              "4               0.298932          0.729474          0.897340   \n",
              "...                  ...               ...               ...   \n",
              "370049          0.550724          0.042953          0.555945   \n",
              "370050          0.505388          0.648112          0.967527   \n",
              "370051          0.477593          0.956304          0.028372   \n",
              "370052          0.029169          0.554948          0.434015   \n",
              "370053          0.900660          0.934865          0.959727   \n",
              "\n",
              "        TCGA-VV-A829-01A  TCGA-DU-7018-01A  TCGA-FG-6692-01A  \\\n",
              "0               0.842415          0.912122          0.701483   \n",
              "1               0.348242          0.533776          0.843038   \n",
              "2               0.894105          0.886266          0.895180   \n",
              "3               0.546522          0.768586          0.712351   \n",
              "4               0.524332          0.838501          0.694548   \n",
              "...                  ...               ...               ...   \n",
              "370049          0.950435          0.966993          0.521638   \n",
              "370050          0.210701          0.496869          0.520505   \n",
              "370051          0.032413          0.037614          0.820736   \n",
              "370052          0.469134          0.036153          0.921465   \n",
              "370053          0.909553          0.967845          0.947637   \n",
              "\n",
              "        TCGA-TQ-A7RJ-01A  TCGA-DH-A7UU-01A  \n",
              "0               0.738342          0.870277  \n",
              "1               0.164344          0.213311  \n",
              "2               0.865581          0.927024  \n",
              "3               0.463871          0.746269  \n",
              "4               0.894163          0.868375  \n",
              "...                  ...               ...  \n",
              "370049          0.477783          0.522890  \n",
              "370050          0.489203          0.027019  \n",
              "370051          0.571735          0.967474  \n",
              "370052          0.082423          0.443472  \n",
              "370053          0.840110          0.944437  \n",
              "\n",
              "[370054 rows x 535 columns]"
            ],
            "text/html": [
              "\n",
              "  <div id=\"df-e997186b-2b98-42ed-b1aa-89db2b67db65\">\n",
              "    <div class=\"colab-df-container\">\n",
              "      <div>\n",
              "<style scoped>\n",
              "    .dataframe tbody tr th:only-of-type {\n",
              "        vertical-align: middle;\n",
              "    }\n",
              "\n",
              "    .dataframe tbody tr th {\n",
              "        vertical-align: top;\n",
              "    }\n",
              "\n",
              "    .dataframe thead th {\n",
              "        text-align: right;\n",
              "    }\n",
              "</style>\n",
              "<table border=\"1\" class=\"dataframe\">\n",
              "  <thead>\n",
              "    <tr style=\"text-align: right;\">\n",
              "      <th></th>\n",
              "      <th>Composite Element REF</th>\n",
              "      <th>TCGA-S9-A6WQ-01A</th>\n",
              "      <th>TCGA-DB-A64V-01A</th>\n",
              "      <th>TCGA-DU-8162-01A</th>\n",
              "      <th>TCGA-HT-7858-01A</th>\n",
              "      <th>TCGA-HT-8019-01A</th>\n",
              "      <th>TCGA-TM-A84C-01A</th>\n",
              "      <th>TCGA-S9-A6WO-01A</th>\n",
              "      <th>TCGA-TM-A84M-01A</th>\n",
              "      <th>TCGA-TQ-A7RQ-01A</th>\n",
              "      <th>...</th>\n",
              "      <th>TCGA-HT-A5RC-01A</th>\n",
              "      <th>TCGA-HT-A616-01A</th>\n",
              "      <th>TCGA-FG-5963-02A</th>\n",
              "      <th>TCGA-HT-7477-01B</th>\n",
              "      <th>TCGA-DB-5273-01A</th>\n",
              "      <th>TCGA-VV-A829-01A</th>\n",
              "      <th>TCGA-DU-7018-01A</th>\n",
              "      <th>TCGA-FG-6692-01A</th>\n",
              "      <th>TCGA-TQ-A7RJ-01A</th>\n",
              "      <th>TCGA-DH-A7UU-01A</th>\n",
              "    </tr>\n",
              "  </thead>\n",
              "  <tbody>\n",
              "    <tr>\n",
              "      <th>0</th>\n",
              "      <td>cg00000029</td>\n",
              "      <td>0.850163</td>\n",
              "      <td>0.794375</td>\n",
              "      <td>0.627703</td>\n",
              "      <td>0.885086</td>\n",
              "      <td>0.545273</td>\n",
              "      <td>0.868165</td>\n",
              "      <td>0.860534</td>\n",
              "      <td>0.882899</td>\n",
              "      <td>0.885700</td>\n",
              "      <td>...</td>\n",
              "      <td>0.840901</td>\n",
              "      <td>0.840275</td>\n",
              "      <td>0.120893</td>\n",
              "      <td>0.856048</td>\n",
              "      <td>0.786290</td>\n",
              "      <td>0.842415</td>\n",
              "      <td>0.912122</td>\n",
              "      <td>0.701483</td>\n",
              "      <td>0.738342</td>\n",
              "      <td>0.870277</td>\n",
              "    </tr>\n",
              "    <tr>\n",
              "      <th>1</th>\n",
              "      <td>cg00000165</td>\n",
              "      <td>0.182303</td>\n",
              "      <td>0.235612</td>\n",
              "      <td>0.231927</td>\n",
              "      <td>0.136708</td>\n",
              "      <td>0.162496</td>\n",
              "      <td>0.098264</td>\n",
              "      <td>0.101520</td>\n",
              "      <td>0.842956</td>\n",
              "      <td>0.225748</td>\n",
              "      <td>...</td>\n",
              "      <td>0.396442</td>\n",
              "      <td>0.486888</td>\n",
              "      <td>0.287997</td>\n",
              "      <td>0.572660</td>\n",
              "      <td>0.094496</td>\n",
              "      <td>0.348242</td>\n",
              "      <td>0.533776</td>\n",
              "      <td>0.843038</td>\n",
              "      <td>0.164344</td>\n",
              "      <td>0.213311</td>\n",
              "    </tr>\n",
              "    <tr>\n",
              "      <th>2</th>\n",
              "      <td>cg00000236</td>\n",
              "      <td>0.919964</td>\n",
              "      <td>0.918428</td>\n",
              "      <td>0.896700</td>\n",
              "      <td>0.929134</td>\n",
              "      <td>0.904493</td>\n",
              "      <td>0.855905</td>\n",
              "      <td>0.941359</td>\n",
              "      <td>0.884972</td>\n",
              "      <td>0.880838</td>\n",
              "      <td>...</td>\n",
              "      <td>0.900246</td>\n",
              "      <td>0.921954</td>\n",
              "      <td>0.891859</td>\n",
              "      <td>0.903516</td>\n",
              "      <td>0.936794</td>\n",
              "      <td>0.894105</td>\n",
              "      <td>0.886266</td>\n",
              "      <td>0.895180</td>\n",
              "      <td>0.865581</td>\n",
              "      <td>0.927024</td>\n",
              "    </tr>\n",
              "    <tr>\n",
              "      <th>3</th>\n",
              "      <td>cg00000289</td>\n",
              "      <td>0.741190</td>\n",
              "      <td>0.807882</td>\n",
              "      <td>0.741549</td>\n",
              "      <td>0.721685</td>\n",
              "      <td>0.687615</td>\n",
              "      <td>0.720627</td>\n",
              "      <td>0.788087</td>\n",
              "      <td>0.771278</td>\n",
              "      <td>0.735567</td>\n",
              "      <td>...</td>\n",
              "      <td>0.589977</td>\n",
              "      <td>0.761367</td>\n",
              "      <td>0.603824</td>\n",
              "      <td>0.650224</td>\n",
              "      <td>0.816928</td>\n",
              "      <td>0.546522</td>\n",
              "      <td>0.768586</td>\n",
              "      <td>0.712351</td>\n",
              "      <td>0.463871</td>\n",
              "      <td>0.746269</td>\n",
              "    </tr>\n",
              "    <tr>\n",
              "      <th>4</th>\n",
              "      <td>cg00000292</td>\n",
              "      <td>0.821800</td>\n",
              "      <td>0.764669</td>\n",
              "      <td>0.613204</td>\n",
              "      <td>0.825479</td>\n",
              "      <td>0.665609</td>\n",
              "      <td>0.330482</td>\n",
              "      <td>0.892027</td>\n",
              "      <td>0.862808</td>\n",
              "      <td>0.830660</td>\n",
              "      <td>...</td>\n",
              "      <td>0.763409</td>\n",
              "      <td>0.829496</td>\n",
              "      <td>0.298932</td>\n",
              "      <td>0.729474</td>\n",
              "      <td>0.897340</td>\n",
              "      <td>0.524332</td>\n",
              "      <td>0.838501</td>\n",
              "      <td>0.694548</td>\n",
              "      <td>0.894163</td>\n",
              "      <td>0.868375</td>\n",
              "    </tr>\n",
              "    <tr>\n",
              "      <th>...</th>\n",
              "      <td>...</td>\n",
              "      <td>...</td>\n",
              "      <td>...</td>\n",
              "      <td>...</td>\n",
              "      <td>...</td>\n",
              "      <td>...</td>\n",
              "      <td>...</td>\n",
              "      <td>...</td>\n",
              "      <td>...</td>\n",
              "      <td>...</td>\n",
              "      <td>...</td>\n",
              "      <td>...</td>\n",
              "      <td>...</td>\n",
              "      <td>...</td>\n",
              "      <td>...</td>\n",
              "      <td>...</td>\n",
              "      <td>...</td>\n",
              "      <td>...</td>\n",
              "      <td>...</td>\n",
              "      <td>...</td>\n",
              "      <td>...</td>\n",
              "    </tr>\n",
              "    <tr>\n",
              "      <th>370049</th>\n",
              "      <td>rs9363764</td>\n",
              "      <td>0.935951</td>\n",
              "      <td>0.948834</td>\n",
              "      <td>0.945391</td>\n",
              "      <td>0.933186</td>\n",
              "      <td>0.940522</td>\n",
              "      <td>0.592808</td>\n",
              "      <td>0.555798</td>\n",
              "      <td>0.940578</td>\n",
              "      <td>0.606940</td>\n",
              "      <td>...</td>\n",
              "      <td>0.540285</td>\n",
              "      <td>0.943484</td>\n",
              "      <td>0.550724</td>\n",
              "      <td>0.042953</td>\n",
              "      <td>0.555945</td>\n",
              "      <td>0.950435</td>\n",
              "      <td>0.966993</td>\n",
              "      <td>0.521638</td>\n",
              "      <td>0.477783</td>\n",
              "      <td>0.522890</td>\n",
              "    </tr>\n",
              "    <tr>\n",
              "      <th>370050</th>\n",
              "      <td>rs939290</td>\n",
              "      <td>0.538661</td>\n",
              "      <td>0.521277</td>\n",
              "      <td>0.033897</td>\n",
              "      <td>0.536383</td>\n",
              "      <td>0.508837</td>\n",
              "      <td>0.966462</td>\n",
              "      <td>0.966590</td>\n",
              "      <td>0.519297</td>\n",
              "      <td>0.031025</td>\n",
              "      <td>...</td>\n",
              "      <td>0.027705</td>\n",
              "      <td>0.519545</td>\n",
              "      <td>0.505388</td>\n",
              "      <td>0.648112</td>\n",
              "      <td>0.967527</td>\n",
              "      <td>0.210701</td>\n",
              "      <td>0.496869</td>\n",
              "      <td>0.520505</td>\n",
              "      <td>0.489203</td>\n",
              "      <td>0.027019</td>\n",
              "    </tr>\n",
              "    <tr>\n",
              "      <th>370051</th>\n",
              "      <td>rs951295</td>\n",
              "      <td>0.967512</td>\n",
              "      <td>0.038067</td>\n",
              "      <td>0.066347</td>\n",
              "      <td>0.543269</td>\n",
              "      <td>0.527952</td>\n",
              "      <td>0.532709</td>\n",
              "      <td>0.035318</td>\n",
              "      <td>0.038075</td>\n",
              "      <td>0.542278</td>\n",
              "      <td>...</td>\n",
              "      <td>0.525321</td>\n",
              "      <td>0.951973</td>\n",
              "      <td>0.477593</td>\n",
              "      <td>0.956304</td>\n",
              "      <td>0.028372</td>\n",
              "      <td>0.032413</td>\n",
              "      <td>0.037614</td>\n",
              "      <td>0.820736</td>\n",
              "      <td>0.571735</td>\n",
              "      <td>0.967474</td>\n",
              "    </tr>\n",
              "    <tr>\n",
              "      <th>370052</th>\n",
              "      <td>rs966367</td>\n",
              "      <td>0.479492</td>\n",
              "      <td>0.467710</td>\n",
              "      <td>0.923915</td>\n",
              "      <td>0.034852</td>\n",
              "      <td>0.947704</td>\n",
              "      <td>0.477638</td>\n",
              "      <td>0.408081</td>\n",
              "      <td>0.507434</td>\n",
              "      <td>0.933765</td>\n",
              "      <td>...</td>\n",
              "      <td>0.460741</td>\n",
              "      <td>0.513231</td>\n",
              "      <td>0.029169</td>\n",
              "      <td>0.554948</td>\n",
              "      <td>0.434015</td>\n",
              "      <td>0.469134</td>\n",
              "      <td>0.036153</td>\n",
              "      <td>0.921465</td>\n",
              "      <td>0.082423</td>\n",
              "      <td>0.443472</td>\n",
              "    </tr>\n",
              "    <tr>\n",
              "      <th>370053</th>\n",
              "      <td>rs9839873</td>\n",
              "      <td>0.928399</td>\n",
              "      <td>0.698739</td>\n",
              "      <td>0.931811</td>\n",
              "      <td>0.922432</td>\n",
              "      <td>0.929097</td>\n",
              "      <td>0.930540</td>\n",
              "      <td>0.933013</td>\n",
              "      <td>0.676792</td>\n",
              "      <td>0.899661</td>\n",
              "      <td>...</td>\n",
              "      <td>0.896218</td>\n",
              "      <td>0.937986</td>\n",
              "      <td>0.900660</td>\n",
              "      <td>0.934865</td>\n",
              "      <td>0.959727</td>\n",
              "      <td>0.909553</td>\n",
              "      <td>0.967845</td>\n",
              "      <td>0.947637</td>\n",
              "      <td>0.840110</td>\n",
              "      <td>0.944437</td>\n",
              "    </tr>\n",
              "  </tbody>\n",
              "</table>\n",
              "<p>370054 rows × 535 columns</p>\n",
              "</div>\n",
              "      <button class=\"colab-df-convert\" onclick=\"convertToInteractive('df-e997186b-2b98-42ed-b1aa-89db2b67db65')\"\n",
              "              title=\"Convert this dataframe to an interactive table.\"\n",
              "              style=\"display:none;\">\n",
              "        \n",
              "  <svg xmlns=\"http://www.w3.org/2000/svg\" height=\"24px\"viewBox=\"0 0 24 24\"\n",
              "       width=\"24px\">\n",
              "    <path d=\"M0 0h24v24H0V0z\" fill=\"none\"/>\n",
              "    <path d=\"M18.56 5.44l.94 2.06.94-2.06 2.06-.94-2.06-.94-.94-2.06-.94 2.06-2.06.94zm-11 1L8.5 8.5l.94-2.06 2.06-.94-2.06-.94L8.5 2.5l-.94 2.06-2.06.94zm10 10l.94 2.06.94-2.06 2.06-.94-2.06-.94-.94-2.06-.94 2.06-2.06.94z\"/><path d=\"M17.41 7.96l-1.37-1.37c-.4-.4-.92-.59-1.43-.59-.52 0-1.04.2-1.43.59L10.3 9.45l-7.72 7.72c-.78.78-.78 2.05 0 2.83L4 21.41c.39.39.9.59 1.41.59.51 0 1.02-.2 1.41-.59l7.78-7.78 2.81-2.81c.8-.78.8-2.07 0-2.86zM5.41 20L4 18.59l7.72-7.72 1.47 1.35L5.41 20z\"/>\n",
              "  </svg>\n",
              "      </button>\n",
              "      \n",
              "  <style>\n",
              "    .colab-df-container {\n",
              "      display:flex;\n",
              "      flex-wrap:wrap;\n",
              "      gap: 12px;\n",
              "    }\n",
              "\n",
              "    .colab-df-convert {\n",
              "      background-color: #E8F0FE;\n",
              "      border: none;\n",
              "      border-radius: 50%;\n",
              "      cursor: pointer;\n",
              "      display: none;\n",
              "      fill: #1967D2;\n",
              "      height: 32px;\n",
              "      padding: 0 0 0 0;\n",
              "      width: 32px;\n",
              "    }\n",
              "\n",
              "    .colab-df-convert:hover {\n",
              "      background-color: #E2EBFA;\n",
              "      box-shadow: 0px 1px 2px rgba(60, 64, 67, 0.3), 0px 1px 3px 1px rgba(60, 64, 67, 0.15);\n",
              "      fill: #174EA6;\n",
              "    }\n",
              "\n",
              "    [theme=dark] .colab-df-convert {\n",
              "      background-color: #3B4455;\n",
              "      fill: #D2E3FC;\n",
              "    }\n",
              "\n",
              "    [theme=dark] .colab-df-convert:hover {\n",
              "      background-color: #434B5C;\n",
              "      box-shadow: 0px 1px 3px 1px rgba(0, 0, 0, 0.15);\n",
              "      filter: drop-shadow(0px 1px 2px rgba(0, 0, 0, 0.3));\n",
              "      fill: #FFFFFF;\n",
              "    }\n",
              "  </style>\n",
              "\n",
              "      <script>\n",
              "        const buttonEl =\n",
              "          document.querySelector('#df-e997186b-2b98-42ed-b1aa-89db2b67db65 button.colab-df-convert');\n",
              "        buttonEl.style.display =\n",
              "          google.colab.kernel.accessAllowed ? 'block' : 'none';\n",
              "\n",
              "        async function convertToInteractive(key) {\n",
              "          const element = document.querySelector('#df-e997186b-2b98-42ed-b1aa-89db2b67db65');\n",
              "          const dataTable =\n",
              "            await google.colab.kernel.invokeFunction('convertToInteractive',\n",
              "                                                     [key], {});\n",
              "          if (!dataTable) return;\n",
              "\n",
              "          const docLinkHtml = 'Like what you see? Visit the ' +\n",
              "            '<a target=\"_blank\" href=https://colab.research.google.com/notebooks/data_table.ipynb>data table notebook</a>'\n",
              "            + ' to learn more about interactive tables.';\n",
              "          element.innerHTML = '';\n",
              "          dataTable['output_type'] = 'display_data';\n",
              "          await google.colab.output.renderOutput(dataTable, element);\n",
              "          const docLink = document.createElement('div');\n",
              "          docLink.innerHTML = docLinkHtml;\n",
              "          element.appendChild(docLink);\n",
              "        }\n",
              "      </script>\n",
              "    </div>\n",
              "  </div>\n",
              "  "
            ]
          },
          "metadata": {},
          "execution_count": 13
        }
      ]
    },
    {
      "cell_type": "markdown",
      "source": [
        "##selecting relevant CPG islands"
      ],
      "metadata": {
        "id": "6aUxQltm67Dc"
      }
    },
    {
      "cell_type": "code",
      "source": [
        "identifiers = list(df.iloc[:, 0])"
      ],
      "metadata": {
        "id": "A3x5lk1r9P4_"
      },
      "execution_count": null,
      "outputs": []
    },
    {
      "cell_type": "code",
      "source": [
        "relevant = [identifiers[2],identifiers[5],identifiers[6]]"
      ],
      "metadata": {
        "id": "UqzU5wbwInQu"
      },
      "execution_count": null,
      "outputs": []
    },
    {
      "cell_type": "code",
      "source": [
        "relevant_identifiers = []\n",
        "for i in identifiers:\n",
        "  if identifiers[i] in relevant:\n",
        "    relevant_identifiers.append(i)"
      ],
      "metadata": {
        "id": "cn1elSxAJaGf"
      },
      "execution_count": null,
      "outputs": []
    },
    {
      "cell_type": "code",
      "source": [
        "df1 = df.loc[relevant_identifiers,:]"
      ],
      "metadata": {
        "id": "ULqMlvSwI4r5"
      },
      "execution_count": null,
      "outputs": []
    },
    {
      "cell_type": "code",
      "source": [
        "p_ids_x = list(df.columns[1:])\n",
        "p_ids_y = list(labels.iloc[:,0])\n",
        "p_ids = []\n",
        "for i in p_ids_x:\n",
        "  if i in p_ids_y:\n",
        "    p_ids.append(i)"
      ],
      "metadata": {
        "id": "KRw5iYF2ZMEQ"
      },
      "execution_count": null,
      "outputs": []
    },
    {
      "cell_type": "code",
      "source": [
        "#Swap rows and columns (identifiers * samples to samples * identifiers)\n",
        "df1 = df1.T\n",
        "#Set First Row as Header\n",
        "df1.columns = df1.iloc[0]\n",
        "#Remove first row from DataFrame\n",
        "df1 = df1.iloc[1:]"
      ],
      "metadata": {
        "id": "-bRtpwOFHa6S"
      },
      "execution_count": null,
      "outputs": []
    },
    {
      "cell_type": "code",
      "source": [
        "'a' in ['a','b','v'] "
      ],
      "metadata": {
        "colab": {
          "base_uri": "https://localhost:8080/"
        },
        "id": "n50q76vh3kE-",
        "outputId": "0a0fec02-d3d1-4cc3-dc43-11f5670718d3"
      },
      "execution_count": null,
      "outputs": [
        {
          "output_type": "execute_result",
          "data": {
            "text/plain": [
              "True"
            ]
          },
          "metadata": {},
          "execution_count": 1
        }
      ]
    }
  ]
}